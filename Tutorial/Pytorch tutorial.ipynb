{
 "cells": [
  {
   "cell_type": "markdown",
   "metadata": {},
   "source": [
    "# Pytorch tutorial + cheatsheet\n",
    "> prepared by Shoeb Joarder"
   ]
  },
  {
   "cell_type": "code",
   "execution_count": 1,
   "metadata": {},
   "outputs": [],
   "source": [
    "import torch"
   ]
  },
  {
   "cell_type": "markdown",
   "metadata": {},
   "source": [
    "## Torch Tensors"
   ]
  },
  {
   "cell_type": "code",
   "execution_count": 2,
   "metadata": {},
   "outputs": [
    {
     "name": "stdout",
     "output_type": "stream",
     "text": [
      "tensor([2, 2, 1])\n"
     ]
    }
   ],
   "source": [
    "# This is a 1-D Tensor\n",
    "a = torch.tensor([2, 2, 1])\n",
    "print(a)"
   ]
  },
  {
   "cell_type": "code",
   "execution_count": 3,
   "metadata": {},
   "outputs": [
    {
     "name": "stdout",
     "output_type": "stream",
     "text": [
      "tensor([[2, 1, 4],\n",
      "        [3, 5, 4],\n",
      "        [1, 2, 0],\n",
      "        [4, 3, 2]])\n"
     ]
    }
   ],
   "source": [
    "# This is a 2-D Tensor\n",
    "b = torch.tensor([[2,1,4], [3,5,4], [1,2,0], [4,3,2]])\n",
    "print(b)"
   ]
  },
  {
   "cell_type": "code",
   "execution_count": 4,
   "metadata": {},
   "outputs": [
    {
     "name": "stdout",
     "output_type": "stream",
     "text": [
      "torch.Size([3])\n",
      "torch.Size([4, 3])\n",
      "torch.Size([3])\n",
      "torch.Size([3])\n"
     ]
    }
   ],
   "source": [
    "# The size of the tensor\n",
    "print(a.shape)\n",
    "print(b.shape)\n",
    "print(a.size())\n",
    "print(a.size())"
   ]
  },
  {
   "cell_type": "code",
   "execution_count": 5,
   "metadata": {},
   "outputs": [
    {
     "name": "stdout",
     "output_type": "stream",
     "text": [
      "4\n"
     ]
    }
   ],
   "source": [
    "# Get the height/number of rows of b\n",
    "print(b.shape[0])"
   ]
  },
  {
   "cell_type": "code",
   "execution_count": 6,
   "metadata": {},
   "outputs": [],
   "source": [
    "c = torch.FloatTensor([[2,1,4], [3,5,4], [1,2,0], [4,3,2]])\n",
    "# or we can do\n",
    "# c = torch.tensor([2,2,1], dtype= torch.float)"
   ]
  },
  {
   "cell_type": "code",
   "execution_count": 7,
   "metadata": {},
   "outputs": [],
   "source": [
    "d = torch.DoubleTensor([[2,1,4], [3,5,4], [1,2,0], [4,3,2]])\n",
    "# or we can do\n",
    "# c = torch.tensor([2,2,1], dtype= torch.double)"
   ]
  },
  {
   "cell_type": "code",
   "execution_count": 8,
   "metadata": {},
   "outputs": [
    {
     "name": "stdout",
     "output_type": "stream",
     "text": [
      "tensor([[2., 1., 4.],\n",
      "        [3., 5., 4.],\n",
      "        [1., 2., 0.],\n",
      "        [4., 3., 2.]])\n",
      "torch.float32\n"
     ]
    }
   ],
   "source": [
    "print(c)\n",
    "print(c.dtype)"
   ]
  },
  {
   "cell_type": "code",
   "execution_count": 9,
   "metadata": {},
   "outputs": [
    {
     "name": "stdout",
     "output_type": "stream",
     "text": [
      "tensor([[2., 1., 4.],\n",
      "        [3., 5., 4.],\n",
      "        [1., 2., 0.],\n",
      "        [4., 3., 2.]], dtype=torch.float64)\n",
      "torch.float64\n"
     ]
    }
   ],
   "source": [
    "print(d)\n",
    "print(d.dtype)"
   ]
  },
  {
   "cell_type": "code",
   "execution_count": 10,
   "metadata": {},
   "outputs": [
    {
     "name": "stdout",
     "output_type": "stream",
     "text": [
      "tensor(2.5833)\n"
     ]
    }
   ],
   "source": [
    "print(c.mean())"
   ]
  },
  {
   "cell_type": "code",
   "execution_count": 11,
   "metadata": {},
   "outputs": [
    {
     "name": "stdout",
     "output_type": "stream",
     "text": [
      "tensor(2.5833, dtype=torch.float64)\n"
     ]
    }
   ],
   "source": [
    "print(d.mean())"
   ]
  },
  {
   "cell_type": "code",
   "execution_count": 12,
   "metadata": {},
   "outputs": [
    {
     "name": "stdout",
     "output_type": "stream",
     "text": [
      "tensor(1.5050)\n"
     ]
    }
   ],
   "source": [
    "print(c.std())"
   ]
  },
  {
   "cell_type": "code",
   "execution_count": 13,
   "metadata": {},
   "outputs": [
    {
     "name": "stdout",
     "output_type": "stream",
     "text": [
      "tensor(1.5050, dtype=torch.float64)\n"
     ]
    }
   ],
   "source": [
    "print(d.std())"
   ]
  },
  {
   "cell_type": "code",
   "execution_count": 14,
   "metadata": {
    "scrolled": false
   },
   "outputs": [
    {
     "name": "stdout",
     "output_type": "stream",
     "text": [
      "tensor([[2],\n",
      "        [1],\n",
      "        [4],\n",
      "        [3],\n",
      "        [5],\n",
      "        [4],\n",
      "        [1],\n",
      "        [2],\n",
      "        [0],\n",
      "        [4],\n",
      "        [3],\n",
      "        [2]])\n",
      "\n",
      "\n",
      "tensor([2, 1, 4, 3, 5, 4, 1, 2, 0, 4, 3, 2])\n",
      "\n",
      "\n",
      "tensor([[2, 1, 4, 3],\n",
      "        [5, 4, 1, 2],\n",
      "        [0, 4, 3, 2]])\n",
      "\n",
      "\n",
      "tensor([[2, 1, 4, 3],\n",
      "        [5, 4, 1, 2],\n",
      "        [0, 4, 3, 2]])\n",
      "\n",
      "\n",
      "tensor([[2, 1, 4, 3, 5, 4, 1, 2, 0, 4, 3, 2]])\n",
      "torch.Size([1, 12])\n",
      "\n",
      "\n",
      "tensor([[[ 0.5125,  0.1649,  0.9801,  1.0055],\n",
      "         [ 0.0105, -1.0845,  0.7614, -1.3231],\n",
      "         [-0.6040, -0.0470, -0.9427,  1.5669]],\n",
      "\n",
      "        [[ 0.3275,  1.1690, -0.5994, -0.0023],\n",
      "         [ 1.0912, -2.1684,  0.1553, -1.6559],\n",
      "         [ 0.3436, -1.3831, -0.3699,  1.1546]]])\n",
      "\n",
      "\n",
      "tensor([[ 0.5125,  0.1649,  0.9801,  1.0055,  0.0105, -1.0845,  0.7614, -1.3231,\n",
      "         -0.6040, -0.0470, -0.9427,  1.5669],\n",
      "        [ 0.3275,  1.1690, -0.5994, -0.0023,  1.0912, -2.1684,  0.1553, -1.6559,\n",
      "          0.3436, -1.3831, -0.3699,  1.1546]])\n",
      "\n",
      "\n",
      "tensor([[ 0.5125,  0.1649,  0.9801,  1.0055,  0.0105, -1.0845,  0.7614, -1.3231,\n",
      "         -0.6040, -0.0470, -0.9427,  1.5669],\n",
      "        [ 0.3275,  1.1690, -0.5994, -0.0023,  1.0912, -2.1684,  0.1553, -1.6559,\n",
      "          0.3436, -1.3831, -0.3699,  1.1546]])\n"
     ]
    }
   ],
   "source": [
    "# Reshape b\n",
    "# Note: IF one of the dimensions is -1, its size can be inferred\n",
    "print(b.view(-1,1))\n",
    "print('\\n')\n",
    "\n",
    "print(b.view(12))\n",
    "print('\\n')\n",
    "\n",
    "print(b.view(-1,4))\n",
    "print('\\n')\n",
    "\n",
    "print(b.view(3,4))\n",
    "print('\\n')\n",
    "\n",
    "# Assign b a new shape\n",
    "b = b.view(1, -1)\n",
    "print(b)\n",
    "print(b.shape)\n",
    "print('\\n')\n",
    "\n",
    "# We can even reshape 3D tensors\n",
    "# Create a 3D tensor with 2 channels, 3 rows and 4 columns (channels, row, columns)\n",
    "three_dim = torch.randn(2, 3, 4)\n",
    "print(three_dim)\n",
    "print('\\n')\n",
    "print(three_dim.view(2, 12)) # Reshape to 2 rows, 12 columns\n",
    "print('\\n')\n",
    "print(three_dim.view(2, -1))"
   ]
  },
  {
   "cell_type": "code",
   "execution_count": 15,
   "metadata": {},
   "outputs": [
    {
     "name": "stdout",
     "output_type": "stream",
     "text": [
      "tensor([[0.7122, 0.8740, 0.2544, 0.6196],\n",
      "        [0.7888, 0.0503, 0.4739, 0.1167],\n",
      "        [0.7983, 0.1365, 0.7396, 0.9751],\n",
      "        [0.2868, 0.5208, 0.9605, 0.6032]])\n"
     ]
    }
   ],
   "source": [
    "# Create a matrix with random numbers between 0 and 1\n",
    "r = torch.rand(4, 4)\n",
    "print(r)"
   ]
  },
  {
   "cell_type": "code",
   "execution_count": 16,
   "metadata": {},
   "outputs": [
    {
     "name": "stdout",
     "output_type": "stream",
     "text": [
      "tensor([[ 1.3156, -1.6212, -1.8346,  0.0195],\n",
      "        [-0.9402,  0.0286,  0.4508,  0.1132],\n",
      "        [ 1.5541,  1.8297, -0.0993,  0.7341],\n",
      "        [-0.8339, -0.8423, -0.4997,  1.6735]])\n",
      "torch.float32\n"
     ]
    }
   ],
   "source": [
    "# Create a  matrix with random numbers taken from a normal distribution with mean 0 and variance 1\n",
    "r2 = torch.randn(4, 4)\n",
    "print(r2)\n",
    "print(r2.dtype)"
   ]
  },
  {
   "cell_type": "code",
   "execution_count": 17,
   "metadata": {},
   "outputs": [
    {
     "name": "stdout",
     "output_type": "stream",
     "text": [
      "tensor([8, 6, 8, 7, 8])\n",
      "torch.int64\n"
     ]
    }
   ],
   "source": [
    "# Create an array of 5 random integers from values between 6 and 9 (exclusive of 10)\n",
    "in_array = torch.randint(6, 10, (5,))\n",
    "print(in_array)\n",
    "print(in_array.dtype)"
   ]
  },
  {
   "cell_type": "code",
   "execution_count": 18,
   "metadata": {},
   "outputs": [
    {
     "name": "stdout",
     "output_type": "stream",
     "text": [
      "tensor([[9, 8, 6],\n",
      "        [9, 7, 7],\n",
      "        [9, 7, 7]])\n"
     ]
    }
   ],
   "source": [
    "# Create a 2D Array (or matrix) of size 3x3 filled with random integers from values between 6 and 9 (exclusive of 10)\n",
    "in_array2 = torch.randint(6, 10, (3,3))\n",
    "print(in_array2)"
   ]
  },
  {
   "cell_type": "code",
   "execution_count": 19,
   "metadata": {},
   "outputs": [
    {
     "name": "stdout",
     "output_type": "stream",
     "text": [
      "5\n",
      "9\n"
     ]
    }
   ],
   "source": [
    "# Get the number of elements in in_array\n",
    "print(torch.numel(in_array))\n",
    "\n",
    "# Get the number of elements in in_array\n",
    "print(torch.numel(in_array2))"
   ]
  },
  {
   "cell_type": "code",
   "execution_count": 20,
   "metadata": {},
   "outputs": [
    {
     "name": "stdout",
     "output_type": "stream",
     "text": [
      "tensor([[0, 0, 0],\n",
      "        [0, 0, 0],\n",
      "        [0, 0, 0]])\n",
      "tensor([[1., 1., 1.],\n",
      "        [1., 1., 1.],\n",
      "        [1., 1., 1.]])\n",
      "torch.float32\n"
     ]
    }
   ],
   "source": [
    "# Construct a 3x3 matrix of zeros and dtpye long\n",
    "z = torch.zeros(3, 3, dtype=torch.long)\n",
    "print(z)\n",
    "\n",
    "# Construct a 3x3 matrix of ones\n",
    "o = torch.ones(3, 3)\n",
    "print(o)\n",
    "print(o.dtype)"
   ]
  },
  {
   "cell_type": "code",
   "execution_count": 21,
   "metadata": {},
   "outputs": [
    {
     "name": "stdout",
     "output_type": "stream",
     "text": [
      "tensor([[ 0.0965,  0.3901,  0.9554,  0.0543],\n",
      "        [-0.0348, -0.0925,  0.4544, -0.5899],\n",
      "        [-0.4634, -1.2394, -1.4591, -0.2900],\n",
      "        [-1.4893, -0.1473,  1.3763, -1.5981]], dtype=torch.float64)\n"
     ]
    }
   ],
   "source": [
    "r2_like = torch.randn_like(r2, dtype=torch.double)  # Corvert the data type of the ternsor\n",
    "print(r2_like)"
   ]
  },
  {
   "cell_type": "code",
   "execution_count": 22,
   "metadata": {},
   "outputs": [
    {
     "name": "stdout",
     "output_type": "stream",
     "text": [
      "tensor([[ 2.0278, -0.7471, -1.5802,  0.6391],\n",
      "        [-0.1514,  0.0788,  0.9247,  0.2299],\n",
      "        [ 2.3524,  1.9663,  0.6403,  1.7092],\n",
      "        [-0.5471, -0.3215,  0.4608,  2.2768]])\n"
     ]
    }
   ],
   "source": [
    "add_result = torch.add(r, r2)\n",
    "print(add_result)"
   ]
  },
  {
   "cell_type": "code",
   "execution_count": 23,
   "metadata": {},
   "outputs": [
    {
     "name": "stdout",
     "output_type": "stream",
     "text": [
      "tensor([[ 2.0278, -0.7471, -1.5802,  0.6391],\n",
      "        [-0.1514,  0.0788,  0.9247,  0.2299],\n",
      "        [ 2.3524,  1.9663,  0.6403,  1.7092],\n",
      "        [-0.5471, -0.3215,  0.4608,  2.2768]])\n"
     ]
    }
   ],
   "source": [
    "# In-place addition (change the value of r2)\n",
    "r2.add_(r)      # re = torch.add(r, r2)\n",
    "print(r2)"
   ]
  },
  {
   "cell_type": "code",
   "execution_count": 34,
   "metadata": {},
   "outputs": [
    {
     "name": "stdout",
     "output_type": "stream",
     "text": [
      "tensor([-0.7471,  0.0788,  1.9663, -0.3215])\n",
      "\n",
      "\n",
      "tensor([[ 2.0278, -0.7471],\n",
      "        [-0.1514,  0.0788],\n",
      "        [ 2.3524,  1.9663],\n",
      "        [-0.5471, -0.3215]])\n",
      "\n",
      "\n",
      "tensor([[ 2.0278, -0.7471, -1.5802,  0.6391],\n",
      "        [-0.1514,  0.0788,  0.9247,  0.2299],\n",
      "        [ 2.3524,  1.9663,  0.6403,  1.7092]])\n",
      "\n",
      "\n",
      "tensor(1.7092)\n",
      "\n",
      "\n",
      "1.7091888189315796\n",
      "\n",
      "\n",
      "tensor([2.3524, 1.9663, 0.6403, 1.7092])\n"
     ]
    }
   ],
   "source": [
    "print(r2[:,1])   # all rows in column 1\n",
    "print('\\n')\n",
    "\n",
    "print(r2[:,:2])  # all rows from column 0 to before column 2\n",
    "print('\\n')\n",
    "\n",
    "print(r2[:3,:])  # take row 0 to before row 3 and all columns\n",
    "print('\\n')\n",
    "\n",
    "num_ten = r2[2, 3]\n",
    "print(num_ten)\n",
    "\n",
    "print('\\n')\n",
    "print(num_ten.item())\n",
    "\n",
    "print('\\n')\n",
    "print(r2[2,:])"
   ]
  },
  {
   "cell_type": "markdown",
   "metadata": {},
   "source": [
    "## Numpy Bridge"
   ]
  },
  {
   "cell_type": "code",
   "execution_count": 25,
   "metadata": {},
   "outputs": [],
   "source": [
    "import numpy as np"
   ]
  },
  {
   "cell_type": "code",
   "execution_count": 26,
   "metadata": {},
   "outputs": [
    {
     "name": "stdout",
     "output_type": "stream",
     "text": [
      "tensor([1., 1., 1., 1., 1.])\n",
      "[1. 1. 1. 1. 1.]\n",
      "tensor([2., 2., 2., 2., 2.])\n",
      "[2. 2. 2. 2. 2.]\n"
     ]
    }
   ],
   "source": [
    "# Converting a Torch Tensor to a NumPy Array\n",
    "a = torch.ones(5)\n",
    "print(a)\n",
    "print('\\n')\n",
    "\n",
    "b = a.numpy()\n",
    "print(b)\n",
    "print('\\n')\n",
    "\n",
    "# See how the numpy array changed their value\n",
    "a.add_(1)\n",
    "print(a)\n",
    "print(b)"
   ]
  },
  {
   "cell_type": "code",
   "execution_count": 27,
   "metadata": {},
   "outputs": [
    {
     "name": "stdout",
     "output_type": "stream",
     "text": [
      "[2. 2. 2. 2. 2.]\n",
      "tensor([2., 2., 2., 2., 2.], dtype=torch.float64)\n"
     ]
    }
   ],
   "source": [
    "# Converting NumPy  array  to Torch Tensor\n",
    "# Observe the automatic changes of np array to torch tensor\n",
    "a = np.ones(5)\n",
    "b = torch.from_numpy(a)\n",
    "np.add(a, 1, out=a)  # add with inplace operation\n",
    "print(a)\n",
    "print('\\n')\n",
    "\n",
    "print(b)"
   ]
  },
  {
   "cell_type": "code",
   "execution_count": 28,
   "metadata": {},
   "outputs": [],
   "source": [
    "# Move the tensor to the GPU\n",
    "#r2 = r2.cuda()\n",
    "#print(r2)"
   ]
  },
  {
   "cell_type": "code",
   "execution_count": 29,
   "metadata": {},
   "outputs": [
    {
     "name": "stdout",
     "output_type": "stream",
     "text": [
      "False\n"
     ]
    }
   ],
   "source": [
    "# Provide Easy switching between CPU & GPU\n",
    "CUDA = torch.cuda.is_available()\n",
    "print(CUDA)\n",
    "if CUDA:\n",
    "    add_result = add_result.cuda()\n",
    "    print(add_result)"
   ]
  },
  {
   "cell_type": "code",
   "execution_count": 30,
   "metadata": {},
   "outputs": [
    {
     "name": "stdout",
     "output_type": "stream",
     "text": [
      "tensor([2, 3, 4, 1]) torch.int64\n"
     ]
    }
   ],
   "source": [
    "# You can also convert a list to a tensor\n",
    "a = [2, 3, 4, 1]\n",
    "to_list = torch.tensor(a)\n",
    "print(to_list, to_list.dtype)"
   ]
  },
  {
   "cell_type": "code",
   "execution_count": 31,
   "metadata": {},
   "outputs": [
    {
     "name": "stdout",
     "output_type": "stream",
     "text": [
      "tensor([[1., 2.],\n",
      "        [3., 4.],\n",
      "        [5., 6.],\n",
      "        [7., 8.]]) torch.float32\n"
     ]
    }
   ],
   "source": [
    "data = [[1., 2.], [3.,4.],\n",
    "       [5., 6.], [7.,8.]]\n",
    "T = torch.tensor(data)\n",
    "print(T, T.dtype)"
   ]
  },
  {
   "cell_type": "markdown",
   "metadata": {},
   "source": [
    "## Tensor concatanation"
   ]
  },
  {
   "cell_type": "code",
   "execution_count": 32,
   "metadata": {},
   "outputs": [
    {
     "name": "stdout",
     "output_type": "stream",
     "text": [
      "tensor([[-0.0292, -0.5423, -0.8859,  2.5670, -1.2071],\n",
      "        [-1.7902, -0.6800, -1.5927, -0.3746, -1.1699]])\n",
      "tensor([[ 0.6158, -0.4763, -0.9881,  1.5266,  0.0741],\n",
      "        [ 0.8542, -0.7245,  3.3269,  0.4473,  1.0172],\n",
      "        [ 1.7461, -0.1926, -0.6880, -0.0084,  0.6699]])\n",
      "\n",
      "\n",
      "tensor([[-0.0292, -0.5423, -0.8859,  2.5670, -1.2071],\n",
      "        [-1.7902, -0.6800, -1.5927, -0.3746, -1.1699],\n",
      "        [ 0.6158, -0.4763, -0.9881,  1.5266,  0.0741],\n",
      "        [ 0.8542, -0.7245,  3.3269,  0.4473,  1.0172],\n",
      "        [ 1.7461, -0.1926, -0.6880, -0.0084,  0.6699]])\n",
      "\n",
      "\n",
      "tensor([[ 0.0113,  1.1441, -1.0468],\n",
      "        [-0.1878, -0.6146,  0.7569]])\n",
      "tensor([[ 0.0216,  0.4186,  0.0483, -0.5581,  1.2234],\n",
      "        [-0.5212, -1.1098,  0.1678, -0.2149, -0.1605]])\n",
      "\n",
      "\n",
      "tensor([[ 0.0113,  1.1441, -1.0468,  0.0216,  0.4186,  0.0483, -0.5581,  1.2234],\n",
      "        [-0.1878, -0.6146,  0.7569, -0.5212, -1.1098,  0.1678, -0.2149, -0.1605]])\n"
     ]
    }
   ],
   "source": [
    "# Tensor Concatanation\n",
    "first_1 = torch.randn(2, 5)\n",
    "print(first_1)\n",
    "print('\\n')\n",
    "\n",
    "second_1 = torch.randn(3, 5)\n",
    "print(second_1)\n",
    "print('\\n')\n",
    "\n",
    "# Concatanation along the 0 dimension (concatanation rows)\n",
    "con_1 = torch.cat([first_1, second_1])\n",
    "print(con_1)\n",
    "print('\\n')\n",
    "\n",
    "first_2 = torch.randn(2, 3)\n",
    "print(first_2)\n",
    "print('\\n')\n",
    "\n",
    "second_2 = torch.randn(2, 5)\n",
    "print(second_2)\n",
    "print('\\n')\n",
    "\n",
    "# Concatanation along the 1 dimension (concatanation columns)\n",
    "con_2 = torch.cat([first_2, second_2], 1)\n",
    "print(con_2)"
   ]
  },
  {
   "cell_type": "markdown",
   "metadata": {},
   "source": [
    "## Adding dimensions to tensors"
   ]
  },
  {
   "cell_type": "code",
   "execution_count": 33,
   "metadata": {},
   "outputs": [
    {
     "name": "stdout",
     "output_type": "stream",
     "text": [
      "tensor([[1, 2, 3, 4]])\n",
      "torch.Size([1, 4])\n",
      "\n",
      "\n",
      "tensor([[1],\n",
      "        [2],\n",
      "        [3],\n",
      "        [4]])\n",
      "torch.Size([4, 1])\n",
      "\n",
      "\n",
      "tensor([[[0.3634, 0.0521, 0.9295, 0.2416],\n",
      "         [0.8777, 0.4527, 0.3606, 0.9494],\n",
      "         [0.6880, 0.0200, 0.9909, 0.6272]],\n",
      "\n",
      "        [[0.4869, 0.7745, 0.5151, 0.5053],\n",
      "         [0.2956, 0.7622, 0.5482, 0.0478],\n",
      "         [0.2631, 0.9833, 0.9441, 0.2590]]])\n",
      "\n",
      "\n",
      "tensor([[0.9295, 0.3606, 0.9909],\n",
      "        [0.5151, 0.5482, 0.9441]])\n",
      "torch.Size([2, 3])\n",
      "\n",
      "\n",
      "tensor([[[0.9295],\n",
      "         [0.3606],\n",
      "         [0.9909]],\n",
      "\n",
      "        [[0.5151],\n",
      "         [0.5482],\n",
      "         [0.9441]]])\n",
      "torch.Size([2, 3, 1])\n"
     ]
    }
   ],
   "source": [
    "tensor_1 = torch.tensor([1, 2, 3, 4])\n",
    "tensor_a = torch.unsqueeze(tensor_1, 0)\n",
    "print(tensor_a)\n",
    "print(tensor_a.shape)\n",
    "print('\\n')\n",
    "\n",
    "tensor_b = torch.unsqueeze(tensor_1, 1)\n",
    "print(tensor_b)\n",
    "print(tensor_b.shape)\n",
    "print('\\n')\n",
    "\n",
    "tensor_2 = torch.rand(2, 3, 4)  # 2 is channels, 3 is the rows and 4 is the columns\n",
    "print(tensor_2)\n",
    "print('\\n')\n",
    "\n",
    "tensor_c = tensor_2[:, :, 2]\n",
    "print(tensor_c)\n",
    "print(tensor_c.shape)\n",
    "print('\\n')\n",
    "\n",
    "tensor_d = torch.unsqueeze(tensor_c, 2)\n",
    "print(tensor_d)\n",
    "print(tensor_d.shape)"
   ]
  },
  {
   "cell_type": "markdown",
   "metadata": {},
   "source": [
    "## AutoGrad"
   ]
  },
  {
   "cell_type": "code",
   "execution_count": null,
   "metadata": {},
   "outputs": [],
   "source": []
  }
 ],
 "metadata": {
  "kernelspec": {
   "display_name": "Python 3",
   "language": "python",
   "name": "python3"
  },
  "language_info": {
   "codemirror_mode": {
    "name": "ipython",
    "version": 3
   },
   "file_extension": ".py",
   "mimetype": "text/x-python",
   "name": "python",
   "nbconvert_exporter": "python",
   "pygments_lexer": "ipython3",
   "version": "3.7.4"
  }
 },
 "nbformat": 4,
 "nbformat_minor": 4
}
